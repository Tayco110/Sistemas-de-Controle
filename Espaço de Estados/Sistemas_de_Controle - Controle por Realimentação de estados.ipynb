{
  "cells": [
    {
      "cell_type": "code",
      "execution_count": null,
      "metadata": {
        "id": "I44Ns5-X0XSi"
      },
      "outputs": [],
      "source": [
        "pip install control"
      ]
    },
    {
      "cell_type": "code",
      "execution_count": null,
      "metadata": {
        "id": "DpzNzap60TYd"
      },
      "outputs": [],
      "source": [
        "##Imports\n",
        "import control as ctrl\n",
        "from control import matlab\n",
        "import matplotlib.pyplot as plt\n",
        "import numpy as np\n",
        "from numpy.linalg import eigvals"
      ]
    },
    {
      "cell_type": "markdown",
      "source": [
        "---------------\n",
        "#Vetor com o sinal de entrada\n",
        "---------------"
      ],
      "metadata": {
        "id": "3IeM_ii0vRSq"
      }
    },
    {
      "cell_type": "code",
      "source": [
        "#Os valores do degrau mudam a cada 50 segundos\n",
        "tempo = np.arange(0,150,0.01) ##Vetor de tempo(150 segundos)\n",
        "\n",
        "u1 = np.full(int(len(tempo)/3), 1) #Degrau unitario\n",
        "u2 = np.full(int(len(tempo)/3), 3) #Degrau em 3\n",
        "u3 = np.full(int(len(tempo)/3), 5) #Degrau em 5\n",
        "\n",
        "u = np.concatenate((u1, u2, u3)) #Entrada com degrais de diferentes valores"
      ],
      "metadata": {
        "id": "91hFvy9asgcY"
      },
      "execution_count": null,
      "outputs": []
    },
    {
      "cell_type": "markdown",
      "source": [
        "--------------\n",
        "#Sistema em malha aberta\n",
        "-------------"
      ],
      "metadata": {
        "id": "MBtD7czDu2wK"
      }
    },
    {
      "cell_type": "code",
      "execution_count": null,
      "metadata": {
        "id": "afsiM-Xr0HIt"
      },
      "outputs": [],
      "source": [
        "##Sistema em E.E. Modelado\n",
        "\n",
        "A = [[-1,1,0],[-1,0,-1],[0,1,0]]\n",
        "B = [[0],[1],[0]]\n",
        "C = [0,0,1]\n",
        "D = [0]"
      ]
    },
    {
      "cell_type": "code",
      "source": [
        "sys_open = matlab.ss(A,B,C,D) #sistema em malha aberta"
      ],
      "metadata": {
        "id": "wv0U_bdIsOzL"
      },
      "execution_count": null,
      "outputs": []
    },
    {
      "cell_type": "code",
      "source": [
        "y_o, t_o, x_o = matlab.lsim(sys_open, u, tempo) ##Resposta do sistema ao degrau em malha aberta"
      ],
      "metadata": {
        "id": "VDuqIw88uDIl"
      },
      "execution_count": null,
      "outputs": []
    },
    {
      "cell_type": "code",
      "source": [
        "##Sistema em malha aberta\n",
        "plt.plot(t_o, y_o,'black')\n",
        "plt.grid(alpha = 0.5)\n",
        "plt.title('SISTEMA EM MALHA ABERTA')\n",
        "plt.ylabel('Amplitude')\n",
        "plt.xlabel('Tempo(s)')\n",
        "plt.show()"
      ],
      "metadata": {
        "colab": {
          "base_uri": "https://localhost:8080/",
          "height": 295
        },
        "id": "1DQ4sxbZu1Om",
        "outputId": "6e25f340-5e39-4c8e-d477-f6d2c457e622"
      },
      "execution_count": null,
      "outputs": [
        {
          "output_type": "display_data",
          "data": {
            "text/plain": [
              "<Figure size 432x288 with 1 Axes>"
            ],
            "image/png": "[encoded data removed]"
          },
          "metadata": {
            "needs_background": "light"
          }
        }
      ]
    },
    {
      "cell_type": "code",
      "source": [
        "##Polos do sistema em Malha aberta\n",
        "print('POLOS DO SISTEMA EM  MALHA ABERTA:')\n",
        "print(eigvals(A))"
      ],
      "metadata": {
        "colab": {
          "base_uri": "https://localhost:8080/"
        },
        "id": "0iowSe3k3nFd",
        "outputId": "d7a4681f-ca3d-442b-d39c-45b881fc60af"
      },
      "execution_count": null,
      "outputs": [
        {
          "output_type": "stream",
          "name": "stdout",
          "text": [
            "POLOS DO SISTEMA EM  MALHA ABERTA:\n",
            "[-0.56984029+0.j         -0.21507985+1.30714128j -0.21507985-1.30714128j]\n"
          ]
        }
      ]
    },
    {
      "cell_type": "markdown",
      "source": [
        "----------\n",
        "#Matriz A em malha fechada\n",
        "----------"
      ],
      "metadata": {
        "id": "jQwboq4r2izm"
      }
    },
    {
      "cell_type": "code",
      "execution_count": null,
      "metadata": {
        "colab": {
          "base_uri": "https://localhost:8080/"
        },
        "id": "xZFGIviv_43o",
        "outputId": "fc668db3-aecd-4466-bfa0-3600e5bddbce"
      },
      "outputs": [
        {
          "output_type": "stream",
          "name": "stdout",
          "text": [
            "MATRIZ DE GANHO PARA OS POLOS DESEJADOS:\n",
            "[[-1.49 51.   49.5 ]]\n"
          ]
        }
      ],
      "source": [
        "P = [-50,-1+0.1j, -1-0.1j] ## Polos desejados para o sistema\n",
        "K = matlab.place(A,B,P) ##Matriz de ganho para de chegar nos polos desejados\n",
        "\n",
        "print('MATRIZ DE GANHO PARA OS POLOS DESEJADOS:')\n",
        "print(K)"
      ]
    },
    {
      "cell_type": "code",
      "source": [
        "Acl = (A - (np.dot(B,K))) ##Acl = (A - Bk)\n",
        "\n",
        "print('MATRIZ A EM MALHA FECHADA:')\n",
        "print(Acl)"
      ],
      "metadata": {
        "id": "NafSohnA65cM",
        "colab": {
          "base_uri": "https://localhost:8080/"
        },
        "outputId": "4aca087d-744b-4a5a-deee-72f06c3b688c"
      },
      "execution_count": null,
      "outputs": [
        {
          "output_type": "stream",
          "name": "stdout",
          "text": [
            "MATRIZ A EM MALHA FECHADA:\n",
            "[[ -1.     1.     0.  ]\n",
            " [  0.49 -51.   -50.5 ]\n",
            " [  0.     1.     0.  ]]\n"
          ]
        }
      ]
    },
    {
      "cell_type": "code",
      "source": [
        "##Polos do sistema em Malha Fechada\n",
        "print('POLOS DO SISTEMA EM  MALHA FECHADA:')\n",
        "print(eigvals(Acl))"
      ],
      "metadata": {
        "colab": {
          "base_uri": "https://localhost:8080/"
        },
        "id": "Z58Y8tU921a1",
        "outputId": "49a49695-56bb-4e94-fe6f-66814adf0573"
      },
      "execution_count": null,
      "outputs": [
        {
          "output_type": "stream",
          "name": "stdout",
          "text": [
            "POLOS DO SISTEMA EM  MALHA FECHADA:\n",
            "[-50.+0.j   -1.+0.1j  -1.-0.1j]\n"
          ]
        }
      ]
    },
    {
      "cell_type": "code",
      "source": [
        "sys_close = matlab.ss(Acl,B,C,D) ##Sistema com os polos realocados A = (A - B*k)"
      ],
      "metadata": {
        "id": "kxlYsBV-67uB"
      },
      "execution_count": null,
      "outputs": []
    },
    {
      "cell_type": "code",
      "source": [
        "y_c, t_c, x_c = matlab.lsim(sys_close, u, tempo) ##Resposta do sistema ao degrau em malha fechada com os polos realocados"
      ],
      "metadata": {
        "id": "7xhgbiOgxq1E"
      },
      "execution_count": null,
      "outputs": []
    },
    {
      "cell_type": "code",
      "source": [
        "##Resposta - Sistema em malha fechada - Polos realocados\n",
        "plt.plot(t_c, y_c,'black')\n",
        "plt.grid(alpha = 0.5)\n",
        "plt.title('SISTEMA COM OS POLOS REALOCADOS')\n",
        "plt.ylabel('Amplitude')\n",
        "plt.xlabel('Tempo(s)')\n",
        "plt.show()"
      ],
      "metadata": {
        "colab": {
          "base_uri": "https://localhost:8080/",
          "height": 295
        },
        "id": "1xZOjfduxioK",
        "outputId": "cb5cbc2e-ebba-4800-eff2-d54cc9aa0499"
      },
      "execution_count": null,
      "outputs": [
        {
          "output_type": "display_data",
          "data": {
            "text/plain": [
              "<Figure size 432x288 with 1 Axes>"
            ],
            "image/png": "[encoded data removed]"
          },
          "metadata": {
            "needs_background": "light"
          }
        }
      ]
    },
    {
      "cell_type": "markdown",
      "source": [
        "--------\n",
        "#Matriz B em malha fechada\n",
        "-------"
      ],
      "metadata": {
        "id": "50tZoEnLcddo"
      }
    },
    {
      "cell_type": "code",
      "source": [
        "Kdc = matlab.dcgain(sys_close) ##Ganho do sistema\n",
        "Kp = 1/Kdc ##calculo do coeficiente de erro\n",
        "\n",
        "print('VALOR DO COEFICIENTE DE ERRO:')\n",
        "print(Kp)"
      ],
      "metadata": {
        "id": "fz23j7W139n-",
        "colab": {
          "base_uri": "https://localhost:8080/"
        },
        "outputId": "deda6910-f808-47e7-c5c1-7d2c7a15e803"
      },
      "execution_count": null,
      "outputs": [
        {
          "output_type": "stream",
          "name": "stdout",
          "text": [
            "VALOR DO COEFICIENTE DE ERRO:\n",
            "50.49999999999999\n"
          ]
        }
      ]
    },
    {
      "cell_type": "code",
      "source": [
        "Bcl = np.dot(Kp,B) ## B = (B*kp)\n",
        "print('MATRIZ B EM MALHA FECHADA:')\n",
        "print(Bcl)"
      ],
      "metadata": {
        "id": "gXah9dfh2xM2",
        "colab": {
          "base_uri": "https://localhost:8080/"
        },
        "outputId": "51754994-7995-4ecf-93e2-30ed05114117"
      },
      "execution_count": null,
      "outputs": [
        {
          "output_type": "stream",
          "name": "stdout",
          "text": [
            "MATRIZ B EM MALHA FECHADA:\n",
            "[[ 0. ]\n",
            " [50.5]\n",
            " [ 0. ]]\n"
          ]
        }
      ]
    },
    {
      "cell_type": "markdown",
      "source": [
        "----------\n",
        "#Sistema do servo-controlador em malha fechada\n",
        "----------"
      ],
      "metadata": {
        "id": "HMHGPH9KcidZ"
      }
    },
    {
      "cell_type": "code",
      "source": [
        "sys_close_kp = matlab.ss(Acl,Bcl,C,D) ##Sistema em malha fechada"
      ],
      "metadata": {
        "id": "keoXxESzcl6a"
      },
      "execution_count": null,
      "outputs": []
    },
    {
      "cell_type": "code",
      "source": [
        "y, t, x = matlab.lsim(sys_close_kp, u, tempo) ##Resposta do sistema ao degrau em malha fechada"
      ],
      "metadata": {
        "id": "Zvi9r4cU5N-4"
      },
      "execution_count": null,
      "outputs": []
    },
    {
      "cell_type": "code",
      "execution_count": null,
      "metadata": {
        "colab": {
          "base_uri": "https://localhost:8080/",
          "height": 295
        },
        "id": "3WyFmdmBCAzh",
        "outputId": "b2cb5e9c-e761-4c82-86ce-7df5de92e975"
      },
      "outputs": [
        {
          "output_type": "display_data",
          "data": {
            "text/plain": [
              "<Figure size 432x288 with 1 Axes>"
            ],
            "image/png": "[encoded data removed]"
          },
          "metadata": {
            "needs_background": "light"
          }
        }
      ],
      "source": [
        "##Resposta - Sistema em malha fechada - Polos realocados - Correção de erro\n",
        "plt.plot(t, y,'black')\n",
        "plt.grid(alpha = 0.5)\n",
        "plt.title('SISTEMA EM MALHA FECHADA')\n",
        "plt.ylabel('Amplitude')\n",
        "plt.xlabel('Tempo(s)')\n",
        "plt.show()"
      ]
    },
    {
      "cell_type": "markdown",
      "source": [
        "-------\n",
        "#Critérios de desempenho\n",
        "-------"
      ],
      "metadata": {
        "id": "NPe1D5eBi5Ag"
      }
    },
    {
      "cell_type": "code",
      "source": [
        "print('CRITÉRIOS DE DESEMPENHO PARA O SISTEMA EM MALHA FECHADA')\n",
        "ctrl.step_info(sys_close_kp)"
      ],
      "metadata": {
        "colab": {
          "base_uri": "https://localhost:8080/"
        },
        "id": "yJh45wQnhgse",
        "outputId": "80baed89-c43f-4214-8b0d-300bbf358320"
      },
      "execution_count": null,
      "outputs": [
        {
          "output_type": "stream",
          "name": "stdout",
          "text": [
            "CRITÉRIOS DE DESEMPENHO PARA O SISTEMA EM MALHA FECHADA\n"
          ]
        },
        {
          "output_type": "execute_result",
          "data": {
            "text/plain": [
              "{'Overshoot': 0,\n",
              " 'Peak': 0.9992770477135836,\n",
              " 'PeakTime': 6.907755278982139,\n",
              " 'RiseTime': 2.1488339092555395,\n",
              " 'SettlingMax': 1.0,\n",
              " 'SettlingMin': 0.9001965192992976,\n",
              " 'SettlingTime': 3.8198422834195513,\n",
              " 'SteadyStateValue': 1.0,\n",
              " 'Undershoot': 0}"
            ]
          },
          "metadata": {},
          "execution_count": 48
        }
      ]
    },
    {
      "cell_type": "code",
      "source": [
        "print('CRITÉRIOS DE DESEMPENHO PARA O SISTEMA EM MALHA ABERTA')\n",
        "ctrl.step_info(sys_open)"
      ],
      "metadata": {
        "colab": {
          "base_uri": "https://localhost:8080/"
        },
        "id": "-wPjkJoah6D6",
        "outputId": "23f1a10e-c852-402f-d164-b9cef3b0348c"
      },
      "execution_count": null,
      "outputs": [
        {
          "output_type": "stream",
          "name": "stdout",
          "text": [
            "CRITÉRIOS DE DESEMPENHO PARA O SISTEMA EM MALHA ABERTA\n"
          ]
        },
        {
          "output_type": "execute_result",
          "data": {
            "text/plain": [
              "{'Overshoot': 27.412024245469247,\n",
              " 'Peak': 1.2741202424546925,\n",
              " 'PeakTime': 2.6449430397438554,\n",
              " 'RiseTime': 1.133547017033081,\n",
              " 'SettlingMax': 1.2741202424546925,\n",
              " 'SettlingMin': 0.7591090829563235,\n",
              " 'SettlingTime': 15.302884729946593,\n",
              " 'SteadyStateValue': 1.0,\n",
              " 'Undershoot': 0}"
            ]
          },
          "metadata": {},
          "execution_count": 49
        }
      ]
    }
  ],
  "metadata": {
    "colab": {
      "collapsed_sections": [],
      "name": "Sistemas de Controle 2 - Parte 2 - AB1",
      "provenance": []
    },
    "kernelspec": {
      "display_name": "Python 3",
      "name": "python3"
    },
    "language_info": {
      "name": "python"
    }
  },
  "nbformat": 4,
  "nbformat_minor": 0
}