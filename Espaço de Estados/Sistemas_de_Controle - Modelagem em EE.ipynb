{
  "nbformat": 4,
  "nbformat_minor": 0,
  "metadata": {
    "colab": {
      "name": "Sistemas de Controle 2 - Parte 1 - AB1",
      "provenance": [],
      "collapsed_sections": []
    },
    "kernelspec": {
      "name": "python3",
      "display_name": "Python 3"
    },
    "language_info": {
      "name": "python"
    }
  },
  "cells": [
    {
      "cell_type": "code",
      "source": [
        "pip install control"
      ],
      "metadata": {
        "id": "9TVNvnF2Or_D"
      },
      "execution_count": null,
      "outputs": []
    },
    {
      "cell_type": "code",
      "execution_count": null,
      "metadata": {
        "id": "teEhRfVxQEGn"
      },
      "outputs": [],
      "source": [
        "import control as ctrl\n",
        "from control import matlab\n",
        "import numpy as np\n",
        "from numpy.linalg import matrix_rank\n",
        "from numpy.linalg import eigvals\n",
        "import matplotlib.pyplot as plt"
      ]
    },
    {
      "cell_type": "markdown",
      "source": [
        "CIRCUITO ELÉTRICO DE ORDEM 3"
      ],
      "metadata": {
        "id": "_Ma8hXOR7oxZ"
      }
    },
    {
      "cell_type": "markdown",
      "source": [
        "![Circuito.png](data:image/png;base64,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)"
      ],
      "metadata": {
        "id": "-jevGvihKaW2"
      }
    },
    {
      "cell_type": "markdown",
      "source": [
        "MODELAGEM EM ESPAÇOS DE ESTADO"
      ],
      "metadata": {
        "id": "gKKikpRyQdp4"
      }
    },
    {
      "cell_type": "code",
      "source": [
        "##Sistema em E.E. Modelado\n",
        "\n",
        "A = [[-1,1,0],[-1,0,-1],[0,1,0]]\n",
        "B = [[0],[1],[0]]\n",
        "C = [0,0,1]\n",
        "D = [0]\n",
        "\n",
        "system = matlab.ss(A,B,C,D)"
      ],
      "metadata": {
        "id": "WbOCv8gsQcon"
      },
      "execution_count": null,
      "outputs": []
    },
    {
      "cell_type": "markdown",
      "source": [
        "CALCULO DA FUNÇÃO DE TRANSFERENCIA"
      ],
      "metadata": {
        "id": "sRm-M1nZDS26"
      }
    },
    {
      "cell_type": "code",
      "source": [
        "system_tf = matlab.ss2tf(A,B,C,D) #Função de transferencia partindo dos Espaços de Estados\n",
        "\n",
        "print('\\033[1m'+'FUNÇÃO DE TRANSFERENCIA DO SISTEMA:'+'\\033[0m')\n",
        "print(system_tf)"
      ],
      "metadata": {
        "colab": {
          "base_uri": "https://localhost:8080/"
        },
        "id": "MsK4bWlkDT4A",
        "outputId": "a57161e3-baa0-4938-e6ca-e336c60d1317"
      },
      "execution_count": null,
      "outputs": [
        {
          "output_type": "stream",
          "name": "stdout",
          "text": [
            "\u001b[1mFUNÇÃO DE TRANSFERENCIA DO SISTEMA:\u001b[0m\n",
            "\n",
            "-3.331e-16 s^2 + s + 1\n",
            "----------------------\n",
            " s^3 + s^2 + 2 s + 1\n",
            "\n"
          ]
        }
      ]
    },
    {
      "cell_type": "markdown",
      "source": [
        "SIMULAÇÃO DE MODELO"
      ],
      "metadata": {
        "id": "zgsJLMCpROYR"
      }
    },
    {
      "cell_type": "code",
      "source": [
        "tempo = np.arange(0,60,0.01) ##Vetor de tempo (60 segundos)\n",
        "u_degrau = np.full(len(tempo),1) #Sinal de entrada (Degrau unitário)\n",
        "u_rampa = np.full(len(tempo),tempo) ##Sinal de entrada (Rampa)\n",
        "u_parabola = np.full(len(tempo),tempo**2) ##Sinal de entrada(Parábola)"
      ],
      "metadata": {
        "id": "UClHgLz-uXgB"
      },
      "execution_count": null,
      "outputs": []
    },
    {
      "cell_type": "code",
      "source": [
        "print('Degrau:\\n',u_degrau)\n",
        "print('Rampa\\n',u_rampa)\n",
        "print('Parábola:\\n',u_parabola)"
      ],
      "metadata": {
        "colab": {
          "base_uri": "https://localhost:8080/"
        },
        "id": "FGdw6PL5RJoX",
        "outputId": "eb1e337e-0d57-4f41-a59b-87e6a2be30e2"
      },
      "execution_count": null,
      "outputs": [
        {
          "output_type": "stream",
          "name": "stdout",
          "text": [
            "Degrau:\n",
            " [1 1 1 ... 1 1 1]\n",
            "Rampa\n",
            " [0.000e+00 1.000e-02 2.000e-02 ... 5.997e+01 5.998e+01 5.999e+01]\n",
            "Parábola:\n",
            " [0.0000000e+00 1.0000000e-04 4.0000000e-04 ... 3.5964009e+03 3.5976004e+03\n",
            " 3.5988001e+03]\n"
          ]
        }
      ]
    },
    {
      "cell_type": "code",
      "source": [
        "y_d, t_d, x_d = matlab.lsim(system, u_degrau, tempo) #Resposta do sistema so Degrau\n",
        "y_r, t_r, x_r = matlab.lsim(system, u_rampa, tempo) #Resposta do sistema à Rarábola\n",
        "y_p, t_p, x_p = matlab.lsim(system, u_parabola, tempo) #Resposta do sistema Parábola"
      ],
      "metadata": {
        "id": "LTW__63Bu3fx"
      },
      "execution_count": null,
      "outputs": []
    },
    {
      "cell_type": "markdown",
      "source": [
        "RESPOSTA TEMPORAL DO SISTEMA"
      ],
      "metadata": {
        "id": "JZnxFECs8JwP"
      }
    },
    {
      "cell_type": "code",
      "source": [
        "def Resposta(t, y, sinal,title, xlabel, ylabel):\n",
        "  plt.plot(t, sinal, 'red',)\n",
        "  plt.plot(t, y, 'black',)\n",
        "  plt.title(title)\n",
        "  plt.xlabel(xlabel)\n",
        "  plt.ylabel(ylabel)\n",
        "  plt.grid(0.5)\n",
        "  plt.show()\n",
        "  print()\n",
        "\n",
        "print('\\033[1m'+'RESPOSTA AO DEGRAU'+'\\033[0m:')\n",
        "Resposta(tempo, y_d, u_degrau, 'DEGRAU','Tempo','Amplitude')\n",
        "\n",
        "print('\\033[1m'+'RESPOSTA À RAMPA'+'\\033[0m:')\n",
        "Resposta(tempo, y_r, u_rampa,'RAMPA','Tempo','Amplitude')\n",
        "\n",
        "print('\\033[1m'+'RESPOSTA À PARÁBOLA'+'\\033[0m:')\n",
        "Resposta(tempo, y_p, u_parabola,'PARÁBOLA','Tempo','Amplitude')"
      ],
      "metadata": {
        "colab": {
          "base_uri": "https://localhost:8080/",
          "height": 955
        },
        "id": "k8oBukiteK5w",
        "outputId": "c5420d99-afc4-4272-8c9c-1c336265b5d6"
      },
      "execution_count": null,
      "outputs": [
        {
          "output_type": "stream",
          "name": "stdout",
          "text": [
            "\u001b[1mRESPOSTA AO DEGRAU\u001b[0m:\n"
          ]
        },
        {
          "output_type": "display_data",
          "data": {
            "text/plain": [
              "<Figure size 432x288 with 1 Axes>"
            ],
            "image/png": "[encoded data removed]"
          },
          "metadata": {
            "needs_background": "light"
          }
        },
        {
          "output_type": "stream",
          "name": "stdout",
          "text": [
            "\n",
            "\u001b[1mRESPOSTA À RAMPA\u001b[0m:\n"
          ]
        },
        {
          "output_type": "display_data",
          "data": {
            "text/plain": [
              "<Figure size 432x288 with 1 Axes>"
            ],
            "image/png": "[encoded data removed]"
          },
          "metadata": {
            "needs_background": "light"
          }
        },
        {
          "output_type": "stream",
          "name": "stdout",
          "text": [
            "\n",
            "\u001b[1mRESPOSTA À PARÁBOLA\u001b[0m:\n"
          ]
        },
        {
          "output_type": "display_data",
          "data": {
            "text/plain": [
              "<Figure size 432x288 with 1 Axes>"
            ],
            "image/png": "[encoded data removed]"
          },
          "metadata": {
            "needs_background": "light"
          }
        },
        {
          "output_type": "stream",
          "name": "stdout",
          "text": [
            "\n"
          ]
        }
      ]
    },
    {
      "cell_type": "markdown",
      "source": [
        "TIPO DO SISTEMA"
      ],
      "metadata": {
        "id": "SXgeMdDbDotI"
      }
    },
    {
      "cell_type": "code",
      "source": [
        "autovalores = eigvals(A)\n",
        "print('POLOS DO SISTEMA EM  MALHA ABERTA:') #Os polos do sistema são os autovalores da matriz A\n",
        "print(autovalores) #O número de polos na origem pode ser usado para determinar o tipo do sistema (Tipo 0)"
      ],
      "metadata": {
        "colab": {
          "base_uri": "https://localhost:8080/"
        },
        "id": "bSY7w5ZTUAw5",
        "outputId": "bc785cfd-51de-4408-a974-04542106f143"
      },
      "execution_count": null,
      "outputs": [
        {
          "output_type": "stream",
          "name": "stdout",
          "text": [
            "POLOS DO SISTEMA EM  MALHA ABERTA:\n",
            "[-0.56984029+0.j         -0.21507985+1.30714128j -0.21507985-1.30714128j]\n"
          ]
        }
      ]
    },
    {
      "cell_type": "markdown",
      "source": [
        "Sistema do tipo 0"
      ],
      "metadata": {
        "id": "dE_zVgZKKyy3"
      }
    },
    {
      "cell_type": "markdown",
      "source": [
        "CRITÉRIOS DE DESEMPENHO"
      ],
      "metadata": {
        "id": "miykUfTfDsTD"
      }
    },
    {
      "cell_type": "code",
      "source": [
        "print('\\033[1m'+'CRITÉRIOS DE DESEMPENHO DO SISTEMA'+'\\033[0m:')\n",
        "ctrl.step_info(system) #Critérios de desempenho do sistema"
      ],
      "metadata": {
        "colab": {
          "base_uri": "https://localhost:8080/"
        },
        "id": "Ju_klLVjWmzQ",
        "outputId": "804aa88b-7ff6-4879-d169-4d69ebc50027"
      },
      "execution_count": null,
      "outputs": [
        {
          "output_type": "stream",
          "name": "stdout",
          "text": [
            "\u001b[1mCRITÉRIOS DE DESEMPENHO DO SISTEMA\u001b[0m:\n"
          ]
        },
        {
          "output_type": "execute_result",
          "data": {
            "text/plain": [
              "{'Overshoot': 27.412024245469247,\n",
              " 'Peak': 1.2741202424546925,\n",
              " 'PeakTime': 2.6449430397438554,\n",
              " 'RiseTime': 1.133547017033081,\n",
              " 'SettlingMax': 1.2741202424546925,\n",
              " 'SettlingMin': 0.7591090829563235,\n",
              " 'SettlingTime': 15.302884729946593,\n",
              " 'SteadyStateValue': 1.0,\n",
              " 'Undershoot': 0}"
            ]
          },
          "metadata": {},
          "execution_count": 33
        }
      ]
    },
    {
      "cell_type": "markdown",
      "source": [
        "MATRIZ DE CONTROLABILIDADE"
      ],
      "metadata": {
        "id": "qdGuPmt9cKe8"
      }
    },
    {
      "cell_type": "code",
      "source": [
        "#Matriz de Controlabilidade do sistema\n",
        "CTR = matlab.ctrb(A,B)\n",
        "\n",
        "print('\\033[1m'+'MATRIZ DE CONTROLABILIDADE DO SISTEMA'+'\\033[0m:')\n",
        "print(CTR)"
      ],
      "metadata": {
        "id": "cPX9EyzzbZuK",
        "colab": {
          "base_uri": "https://localhost:8080/"
        },
        "outputId": "0077f368-aafd-44ac-da16-20d4d5b37989"
      },
      "execution_count": null,
      "outputs": [
        {
          "output_type": "stream",
          "name": "stdout",
          "text": [
            "\u001b[1mMATRIZ DE CONTROLABILIDADE DO SISTEMA\u001b[0m:\n",
            "[[ 0.  1. -1.]\n",
            " [ 1.  0. -2.]\n",
            " [ 0.  1.  0.]]\n"
          ]
        }
      ]
    },
    {
      "cell_type": "markdown",
      "source": [
        "TESTE DE CONTROLABILIDADE"
      ],
      "metadata": {
        "id": "z0mq7ga1Vi5w"
      }
    },
    {
      "cell_type": "code",
      "source": [
        "print('\\033[1m'+'POSTO DA MATRIZ DE CONTROLABILIDADE'+'\\033[0m:')\n",
        "print(matrix_rank(CTR))"
      ],
      "metadata": {
        "colab": {
          "base_uri": "https://localhost:8080/"
        },
        "id": "gaeQe9VoVQNf",
        "outputId": "2c86ae1f-4639-419f-e9fe-ad038c0c73f2"
      },
      "execution_count": null,
      "outputs": [
        {
          "output_type": "stream",
          "name": "stdout",
          "text": [
            "\u001b[1mPOSTO DA MATRIZ DE CONTROLABILIDADE\u001b[0m:\n",
            "3\n"
          ]
        }
      ]
    },
    {
      "cell_type": "markdown",
      "source": [
        "Sistema Controlável"
      ],
      "metadata": {
        "id": "I1J5DTVJK2w5"
      }
    },
    {
      "cell_type": "markdown",
      "source": [
        "MATRIZ DE OBSERVABILIDADE"
      ],
      "metadata": {
        "id": "Z_mOvoxebQ_c"
      }
    },
    {
      "cell_type": "code",
      "source": [
        "#Matriz de Observabilidade do sistema\n",
        "OBS = matlab.obsv(A,C)\n",
        "\n",
        "print('\\033[1m'+'MATRIZ DE OBSERVABILIDADE DO SISTEMA'+'\\033[0m:')\n",
        "print(OBS)"
      ],
      "metadata": {
        "id": "5JKo3pf7cMN7",
        "colab": {
          "base_uri": "https://localhost:8080/"
        },
        "outputId": "8fa42ed0-3851-497c-ea9e-7e1d4ed0bcca"
      },
      "execution_count": null,
      "outputs": [
        {
          "output_type": "stream",
          "name": "stdout",
          "text": [
            "\u001b[1mMATRIZ DE OBSERVABILIDADE DO SISTEMA\u001b[0m:\n",
            "[[ 0.  0.  1.]\n",
            " [ 0.  1.  0.]\n",
            " [-1.  0. -1.]]\n"
          ]
        }
      ]
    },
    {
      "cell_type": "markdown",
      "source": [
        "TESTE DE OBSERVABILIDADE"
      ],
      "metadata": {
        "id": "z9Sy7QfXdoQZ"
      }
    },
    {
      "cell_type": "code",
      "source": [
        "print('\\033[1m'+'POSTO DA MATRIZ DE OBSERVABILIDADE'+'\\033[0m:')\n",
        "print(matrix_rank(OBS))"
      ],
      "metadata": {
        "colab": {
          "base_uri": "https://localhost:8080/"
        },
        "id": "vgV7TPI-VZKK",
        "outputId": "9af8cf9a-b718-4db4-cb26-8b8cd99d06ee"
      },
      "execution_count": null,
      "outputs": [
        {
          "output_type": "stream",
          "name": "stdout",
          "text": [
            "\u001b[1mPOSTO DA MATRIZ DE OBSERVABILIDADE\u001b[0m:\n",
            "3\n"
          ]
        }
      ]
    },
    {
      "cell_type": "markdown",
      "source": [
        "Sistema Observável"
      ],
      "metadata": {
        "id": "V_serkM0K6AB"
      }
    }
  ]
}